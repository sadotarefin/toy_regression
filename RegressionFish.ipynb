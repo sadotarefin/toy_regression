{
 "cells": [
  {
   "cell_type": "code",
   "execution_count": 24,
   "id": "10f90b84",
   "metadata": {
    "scrolled": true
   },
   "outputs": [],
   "source": [
    "import pandas as pd"
   ]
  },
  {
   "cell_type": "code",
   "execution_count": 25,
   "id": "a4c200a8",
   "metadata": {},
   "outputs": [],
   "source": [
    "def read_csv_file(fileName):\n",
    "    return pd.read_csv(fileName)"
   ]
  },
  {
   "cell_type": "code",
   "execution_count": 29,
   "id": "b577c696",
   "metadata": {},
   "outputs": [],
   "source": [
    "def display_data(df):\n",
    "    print(df.head())"
   ]
  },
  {
   "cell_type": "code",
   "execution_count": 39,
   "id": "1daca4ad",
   "metadata": {},
   "outputs": [
    {
     "name": "stdout",
     "output_type": "stream",
     "text": [
      "  Species  Weight  Length1  Length2  Length3   Height   Width\n",
      "0   Bream   242.0     23.2     25.4     30.0  11.5200  4.0200\n",
      "1   Bream   290.0     24.0     26.3     31.2  12.4800  4.3056\n",
      "2   Bream   340.0     23.9     26.5     31.1  12.3778  4.6961\n",
      "3   Bream   363.0     26.3     29.0     33.5  12.7300  4.4555\n",
      "4   Bream   430.0     26.5     29.0     34.0  12.4440  5.1340\n"
     ]
    }
   ],
   "source": [
    "df = read_csv_file(\"Fish.csv\")\n",
    "display_data(df)"
   ]
  },
  {
   "cell_type": "code",
   "execution_count": 40,
   "id": "31f7bec0",
   "metadata": {},
   "outputs": [
    {
     "name": "stdout",
     "output_type": "stream",
     "text": [
      "   Weight  Length1  Length2  Length3   Height   Width  Bream  Parkki  Perch  \\\n",
      "0   242.0     23.2     25.4     30.0  11.5200  4.0200      1       0      0   \n",
      "1   290.0     24.0     26.3     31.2  12.4800  4.3056      1       0      0   \n",
      "2   340.0     23.9     26.5     31.1  12.3778  4.6961      1       0      0   \n",
      "3   363.0     26.3     29.0     33.5  12.7300  4.4555      1       0      0   \n",
      "4   430.0     26.5     29.0     34.0  12.4440  5.1340      1       0      0   \n",
      "\n",
      "   Pike  Roach  Smelt  Whitefish  \n",
      "0     0      0      0          0  \n",
      "1     0      0      0          0  \n",
      "2     0      0      0          0  \n",
      "3     0      0      0          0  \n",
      "4     0      0      0          0  \n"
     ]
    }
   ],
   "source": [
    "one_hot = pd.get_dummies(df['Species'])  #one hot encoding https://stackoverflow.com/a/39287161/3863545\n",
    "df = df.drop('Species',axis = 1)\n",
    "df = df.join(one_hot)\n",
    "display_data(df)"
   ]
  },
  {
   "cell_type": "code",
   "execution_count": 34,
   "id": "c6ee5c96",
   "metadata": {},
   "outputs": [
    {
     "name": "stdout",
     "output_type": "stream",
     "text": [
      "   Length1  Length2  Length3   Height   Width  Bream  Parkki  Perch  Pike  \\\n",
      "0     23.2     25.4     30.0  11.5200  4.0200      1       0      0     0   \n",
      "1     24.0     26.3     31.2  12.4800  4.3056      1       0      0     0   \n",
      "2     23.9     26.5     31.1  12.3778  4.6961      1       0      0     0   \n",
      "3     26.3     29.0     33.5  12.7300  4.4555      1       0      0     0   \n",
      "4     26.5     29.0     34.0  12.4440  5.1340      1       0      0     0   \n",
      "\n",
      "   Roach  Smelt  Whitefish  \n",
      "0      0      0          0  \n",
      "1      0      0          0  \n",
      "2      0      0          0  \n",
      "3      0      0          0  \n",
      "4      0      0          0  \n"
     ]
    }
   ],
   "source": [
    "X_df = df.loc[ : , df.columns != 'Weight']\n",
    "display_data(X_df)"
   ]
  },
  {
   "cell_type": "code",
   "execution_count": 35,
   "id": "4997293d",
   "metadata": {},
   "outputs": [
    {
     "data": {
      "text/plain": [
       "0      242.0\n",
       "1      290.0\n",
       "2      340.0\n",
       "3      363.0\n",
       "4      430.0\n",
       "       ...  \n",
       "154     12.2\n",
       "155     13.4\n",
       "156     12.2\n",
       "157     19.7\n",
       "158     19.9\n",
       "Name: Weight, Length: 159, dtype: float64"
      ]
     },
     "execution_count": 35,
     "metadata": {},
     "output_type": "execute_result"
    }
   ],
   "source": [
    "Y = df['Weight']\n",
    "Y"
   ]
  },
  {
   "cell_type": "code",
   "execution_count": 41,
   "id": "fdb1965b",
   "metadata": {},
   "outputs": [],
   "source": [
    "import torch\n",
    "import torch.nn as nn\n",
    "import numpy as np"
   ]
  },
  {
   "cell_type": "code",
   "execution_count": 42,
   "id": "ec8299f8",
   "metadata": {},
   "outputs": [
    {
     "data": {
      "text/plain": [
       "array([[242. ,  23.2,  25.4, ...,   0. ,   0. ,   0. ],\n",
       "       [290. ,  24. ,  26.3, ...,   0. ,   0. ,   0. ],\n",
       "       [340. ,  23.9,  26.5, ...,   0. ,   0. ,   0. ],\n",
       "       ...,\n",
       "       [ 12.2,  12.1,  13. , ...,   0. ,   1. ,   0. ],\n",
       "       [ 19.7,  13.2,  14.3, ...,   0. ,   1. ,   0. ],\n",
       "       [ 19.9,  13.8,  15. , ...,   0. ,   1. ,   0. ]])"
      ]
     },
     "execution_count": 42,
     "metadata": {},
     "output_type": "execute_result"
    }
   ],
   "source": [
    "feature_data = np.array(df)\n",
    "feature_data"
   ]
  },
  {
   "cell_type": "code",
   "execution_count": 45,
   "id": "fae9fa86",
   "metadata": {},
   "outputs": [],
   "source": [
    "train_dataset, test_dataset = torch.utils.data.random_split(feature_data, [.8, .2])"
   ]
  },
  {
   "cell_type": "code",
   "execution_count": 82,
   "id": "4ef5018d",
   "metadata": {},
   "outputs": [],
   "source": [
    "X = torch.tensor(np.array(train_dataset)[:, 1:-1], dtype=torch.float32)\n",
    "np_y = np.array(train_dataset)[:, 0]\n",
    "Y = torch.tensor(np_y.reshape(128, 1), dtype=torch.float32)"
   ]
  },
  {
   "cell_type": "code",
   "execution_count": null,
   "id": "63e22b1b",
   "metadata": {},
   "outputs": [],
   "source": []
  },
  {
   "cell_type": "code",
   "execution_count": 66,
   "id": "c9c15980",
   "metadata": {},
   "outputs": [],
   "source": [
    "n_samples, n_features = X.shape"
   ]
  },
  {
   "cell_type": "code",
   "execution_count": 67,
   "id": "680149c1",
   "metadata": {},
   "outputs": [
    {
     "data": {
      "text/plain": [
       "(128, 11)"
      ]
     },
     "execution_count": 67,
     "metadata": {},
     "output_type": "execute_result"
    }
   ],
   "source": [
    "n_samples, n_features"
   ]
  },
  {
   "cell_type": "code",
   "execution_count": 68,
   "id": "f2a9160a",
   "metadata": {},
   "outputs": [],
   "source": [
    "input_size = n_features\n",
    "output_size = 1"
   ]
  },
  {
   "cell_type": "code",
   "execution_count": 69,
   "id": "62c203cc",
   "metadata": {},
   "outputs": [],
   "source": [
    "learning_rate = .00001\n",
    "n_iter = 5000"
   ]
  },
  {
   "cell_type": "code",
   "execution_count": 70,
   "id": "9fc7bc7a",
   "metadata": {},
   "outputs": [],
   "source": [
    "model = nn.Linear(input_size, output_size)"
   ]
  },
  {
   "cell_type": "code",
   "execution_count": 71,
   "id": "9bc7f109",
   "metadata": {},
   "outputs": [],
   "source": [
    "loss = nn.MSELoss()"
   ]
  },
  {
   "cell_type": "code",
   "execution_count": 72,
   "id": "a12c395d",
   "metadata": {},
   "outputs": [],
   "source": [
    "optimizer = torch.optim.SGD(model.parameters(), learning_rate)"
   ]
  },
  {
   "cell_type": "code",
   "execution_count": 83,
   "id": "c630b89f",
   "metadata": {},
   "outputs": [],
   "source": [
    "for epoch in range(n_iter):\n",
    "    y_hat = model(X)\n",
    "    l = loss(Y, y_hat)\n",
    "    l.backward()\n",
    "    optimizer.step()\n",
    "    optimizer.zero_grad()"
   ]
  },
  {
   "cell_type": "code",
   "execution_count": 84,
   "id": "56a48625",
   "metadata": {},
   "outputs": [
    {
     "data": {
      "text/plain": [
       "tensor([42.0000, 45.0000, 48.0000,  6.9600,  4.8960,  0.0000,  0.0000,  0.0000,\n",
       "         1.0000,  0.0000,  0.0000])"
      ]
     },
     "execution_count": 84,
     "metadata": {},
     "output_type": "execute_result"
    }
   ],
   "source": [
    "X[0]"
   ]
  },
  {
   "cell_type": "code",
   "execution_count": 85,
   "id": "8f5f071c",
   "metadata": {},
   "outputs": [
    {
     "data": {
      "text/plain": [
       "tensor([500.])"
      ]
     },
     "execution_count": 85,
     "metadata": {},
     "output_type": "execute_result"
    }
   ],
   "source": [
    "Y[0]"
   ]
  },
  {
   "cell_type": "code",
   "execution_count": 86,
   "id": "91251f37",
   "metadata": {},
   "outputs": [
    {
     "data": {
      "text/plain": [
       "tensor([674.4850], grad_fn=<AddBackward0>)"
      ]
     },
     "execution_count": 86,
     "metadata": {},
     "output_type": "execute_result"
    }
   ],
   "source": [
    "model(X[0])"
   ]
  },
  {
   "cell_type": "code",
   "execution_count": 87,
   "id": "ed8cbcab",
   "metadata": {},
   "outputs": [
    {
     "data": {
      "text/plain": [
       "tensor([184.6086], grad_fn=<AddBackward0>)"
      ]
     },
     "execution_count": 87,
     "metadata": {},
     "output_type": "execute_result"
    }
   ],
   "source": [
    "model(X[1])"
   ]
  },
  {
   "cell_type": "code",
   "execution_count": 88,
   "id": "04fa26f7",
   "metadata": {},
   "outputs": [
    {
     "data": {
      "text/plain": [
       "tensor([9.8000])"
      ]
     },
     "execution_count": 88,
     "metadata": {},
     "output_type": "execute_result"
    }
   ],
   "source": [
    "Y[1]"
   ]
  },
  {
   "cell_type": "code",
   "execution_count": 90,
   "id": "9e87b424",
   "metadata": {},
   "outputs": [
    {
     "data": {
      "text/plain": [
       "Weight       242.00\n",
       "Length1       23.20\n",
       "Length2       25.40\n",
       "Length3       30.00\n",
       "Height        11.52\n",
       "Width          4.02\n",
       "Bream          1.00\n",
       "Parkki         0.00\n",
       "Perch          0.00\n",
       "Pike           0.00\n",
       "Roach          0.00\n",
       "Smelt          0.00\n",
       "Whitefish      0.00\n",
       "Name: 0, dtype: float64"
      ]
     },
     "execution_count": 90,
     "metadata": {},
     "output_type": "execute_result"
    }
   ],
   "source": [
    "df.iloc[0]"
   ]
  },
  {
   "cell_type": "code",
   "execution_count": 93,
   "id": "74dc76a4",
   "metadata": {},
   "outputs": [
    {
     "data": {
      "text/plain": [
       "tensor([42.0000, 45.0000, 48.0000,  6.9600,  4.8960,  0.0000,  0.0000,  0.0000,\n",
       "         1.0000,  0.0000,  0.0000])"
      ]
     },
     "execution_count": 93,
     "metadata": {},
     "output_type": "execute_result"
    }
   ],
   "source": [
    "X[0]"
   ]
  },
  {
   "cell_type": "code",
   "execution_count": null,
   "id": "f7b25a35",
   "metadata": {},
   "outputs": [],
   "source": []
  }
 ],
 "metadata": {
  "kernelspec": {
   "display_name": "Python 3 (ipykernel)",
   "language": "python",
   "name": "python3"
  },
  "language_info": {
   "codemirror_mode": {
    "name": "ipython",
    "version": 3
   },
   "file_extension": ".py",
   "mimetype": "text/x-python",
   "name": "python",
   "nbconvert_exporter": "python",
   "pygments_lexer": "ipython3",
   "version": "3.9.13"
  }
 },
 "nbformat": 4,
 "nbformat_minor": 5
}
